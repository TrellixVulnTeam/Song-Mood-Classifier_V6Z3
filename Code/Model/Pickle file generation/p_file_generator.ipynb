{
 "cells": [
  {
   "cell_type": "markdown",
   "metadata": {},
   "source": [
    "### Reading the dataset"
   ]
  },
  {
   "cell_type": "code",
   "execution_count": 9,
   "metadata": {
    "scrolled": true
   },
   "outputs": [
    {
     "name": "stderr",
     "output_type": "stream",
     "text": [
      "C:\\ProgramData\\Anaconda3\\lib\\site-packages\\ipykernel_launcher.py:5: FutureWarning: Sorting because non-concatenation axis is not aligned. A future version\n",
      "of pandas will change to not sort by default.\n",
      "\n",
      "To accept the future behavior, pass 'sort=False'.\n",
      "\n",
      "To retain the current behavior and silence the warning, pass 'sort=True'.\n",
      "\n",
      "  \"\"\"\n"
     ]
    },
    {
     "data": {
      "text/html": [
       "<div>\n",
       "<style scoped>\n",
       "    .dataframe tbody tr th:only-of-type {\n",
       "        vertical-align: middle;\n",
       "    }\n",
       "\n",
       "    .dataframe tbody tr th {\n",
       "        vertical-align: top;\n",
       "    }\n",
       "\n",
       "    .dataframe thead th {\n",
       "        text-align: right;\n",
       "    }\n",
       "</style>\n",
       "<table border=\"1\" class=\"dataframe\">\n",
       "  <thead>\n",
       "    <tr style=\"text-align: right;\">\n",
       "      <th></th>\n",
       "      <th>artist</th>\n",
       "      <th>file</th>\n",
       "      <th>genre</th>\n",
       "      <th>lyrics</th>\n",
       "      <th>mood</th>\n",
       "      <th>title</th>\n",
       "      <th>year</th>\n",
       "    </tr>\n",
       "  </thead>\n",
       "  <tbody>\n",
       "    <tr>\n",
       "      <th>195</th>\n",
       "      <td>Prince</td>\n",
       "      <td>TRAKQEA128F1495E21.h5</td>\n",
       "      <td>Rock</td>\n",
       "      <td>{B-side of Glam Slam}\\nSnare drum pounds on th...</td>\n",
       "      <td>happy</td>\n",
       "      <td>Escape ( LP Version)</td>\n",
       "      <td>NaN</td>\n",
       "    </tr>\n",
       "    <tr>\n",
       "      <th>196</th>\n",
       "      <td>Cavo</td>\n",
       "      <td>TRAKQLN128F932AC25.h5</td>\n",
       "      <td>Rock</td>\n",
       "      <td>Well I will rise\\nThe morning comes\\nNothing e...</td>\n",
       "      <td>sad</td>\n",
       "      <td>Over Again (Album Version)</td>\n",
       "      <td>NaN</td>\n",
       "    </tr>\n",
       "    <tr>\n",
       "      <th>197</th>\n",
       "      <td>AFI</td>\n",
       "      <td>TRAKQXJ128F147A028.h5</td>\n",
       "      <td>Rock</td>\n",
       "      <td>Listen when I say, when I say it's real\\nReal ...</td>\n",
       "      <td>happy</td>\n",
       "      <td>Summer Shudder</td>\n",
       "      <td>NaN</td>\n",
       "    </tr>\n",
       "    <tr>\n",
       "      <th>198</th>\n",
       "      <td>Vitamin C</td>\n",
       "      <td>TRAKRQW128F427D6E3.h5</td>\n",
       "      <td>Pop</td>\n",
       "      <td>Imagine a world where the girls, girls rule th...</td>\n",
       "      <td>happy</td>\n",
       "      <td>Girls Against Boys (LP Version)</td>\n",
       "      <td>NaN</td>\n",
       "    </tr>\n",
       "    <tr>\n",
       "      <th>199</th>\n",
       "      <td>Richard Burton</td>\n",
       "      <td>TRAKSRQ128F4269AE8.h5</td>\n",
       "      <td>Jazz</td>\n",
       "      <td>Each evening, from December to December\\nBefor...</td>\n",
       "      <td>happy</td>\n",
       "      <td>Camelot</td>\n",
       "      <td>NaN</td>\n",
       "    </tr>\n",
       "  </tbody>\n",
       "</table>\n",
       "</div>"
      ],
      "text/plain": [
       "             artist                   file genre  \\\n",
       "195          Prince  TRAKQEA128F1495E21.h5  Rock   \n",
       "196            Cavo  TRAKQLN128F932AC25.h5  Rock   \n",
       "197             AFI  TRAKQXJ128F147A028.h5  Rock   \n",
       "198       Vitamin C  TRAKRQW128F427D6E3.h5   Pop   \n",
       "199  Richard Burton  TRAKSRQ128F4269AE8.h5  Jazz   \n",
       "\n",
       "                                                lyrics   mood  \\\n",
       "195  {B-side of Glam Slam}\\nSnare drum pounds on th...  happy   \n",
       "196  Well I will rise\\nThe morning comes\\nNothing e...    sad   \n",
       "197  Listen when I say, when I say it's real\\nReal ...  happy   \n",
       "198  Imagine a world where the girls, girls rule th...  happy   \n",
       "199  Each evening, from December to December\\nBefor...  happy   \n",
       "\n",
       "                               title  year  \n",
       "195             Escape ( LP Version)   NaN  \n",
       "196       Over Again (Album Version)   NaN  \n",
       "197                   Summer Shudder   NaN  \n",
       "198  Girls Against Boys (LP Version)   NaN  \n",
       "199                          Camelot   NaN  "
      ]
     },
     "execution_count": 9,
     "metadata": {},
     "output_type": "execute_result"
    }
   ],
   "source": [
    "import pandas as pd\n",
    "\n",
    "df = pd.read_csv('train_lyrics_1000.csv')\n",
    "df2 = pd.read_csv('valid_lyrics_200.csv')\n",
    "df = pd.concat([df, df2])\n",
    "df.tail()"
   ]
  },
  {
   "cell_type": "markdown",
   "metadata": {},
   "source": [
    "<br>\n",
    "<br>"
   ]
  },
  {
   "cell_type": "markdown",
   "metadata": {},
   "source": [
    "### Label Encoder"
   ]
  },
  {
   "cell_type": "code",
   "execution_count": 10,
   "metadata": {},
   "outputs": [
    {
     "name": "stdout",
     "output_type": "stream",
     "text": [
      "before: ['sad' 'happy' 'sad' 'happy' 'sad'] ...\n",
      "after: [1 0 1 0 1] ...\n"
     ]
    }
   ],
   "source": [
    "from sklearn.preprocessing import LabelEncoder\n",
    "import numpy as np\n",
    "\n",
    "X_train = df['lyrics'].values \n",
    "y_train = df['mood'].values\n",
    "\n",
    "print('before: %s ...' %y_train[:5])\n",
    "\n",
    "le = LabelEncoder()\n",
    "le.fit(y_train)\n",
    "y_train = le.transform(y_train)\n",
    "\n",
    "print('after: %s ...' %y_train[:5])"
   ]
  },
  {
   "cell_type": "markdown",
   "metadata": {},
   "source": [
    "<br>\n",
    "<br>"
   ]
  },
  {
   "cell_type": "markdown",
   "metadata": {},
   "source": [
    "### Porter Stemmer"
   ]
  },
  {
   "cell_type": "code",
   "execution_count": 11,
   "metadata": {},
   "outputs": [],
   "source": [
    "# Porter Stemmer\n",
    "\n",
    "import nltk\n",
    "import string\n",
    "import re\n",
    "\n",
    "porter_stemmer = nltk.stem.porter.PorterStemmer()\n",
    "\n",
    "def porter_tokenizer(text, stemmer=porter_stemmer):\n",
    "    \"\"\"\n",
    "    A Porter-Stemmer-Tokenizer hybrid to splits sentences into words (tokens) \n",
    "    and applies the porter stemming algorithm to each of the obtained token. \n",
    "    Tokens that are only consisting of punctuation characters are removed as well.\n",
    "    Only tokens that consist of more than one letter are being kept.\n",
    "    \n",
    "    Parameters\n",
    "    ----------\n",
    "        \n",
    "    text : `str`. \n",
    "      A sentence that is to split into words.\n",
    "        \n",
    "    Returns\n",
    "    ----------\n",
    "    \n",
    "    no_punct : `str`. \n",
    "      A list of tokens after stemming and removing Sentence punctuation patterns.\n",
    "    \n",
    "    \"\"\"\n",
    "    lower_txt = text.lower()\n",
    "    tokens = nltk.wordpunct_tokenize(lower_txt)\n",
    "    stems = [porter_stemmer.stem(t) for t in tokens]\n",
    "    no_punct = [s for s in stems if re.match('^[a-zA-Z]+$', s) is not None]\n",
    "    return no_punct\n"
   ]
  },
  {
   "cell_type": "code",
   "execution_count": 12,
   "metadata": {},
   "outputs": [
    {
     "name": "stdout",
     "output_type": "stream",
     "text": [
      "stop words ['i', 'me', 'my', 'myself', 'we'] ...\n"
     ]
    }
   ],
   "source": [
    "# Commented out to prevent overwriting files:\n",
    "#\n",
    "# stp = nltk.corpus.stopwords.words('english')\n",
    "# with open('./stopwords_eng.txt', 'w') as outfile:\n",
    "#    outfile.write('\\n'.join(stp))\n",
    "    \n",
    "    \n",
    "with open('./stopwords_eng.txt', 'r') as infile:\n",
    "    stop_words = infile.read().splitlines()\n",
    "print('stop words %s ...' %stop_words[:5])"
   ]
  },
  {
   "cell_type": "markdown",
   "metadata": {},
   "source": [
    "## Vectorizer"
   ]
  },
  {
   "cell_type": "code",
   "execution_count": 13,
   "metadata": {},
   "outputs": [],
   "source": [
    "from sklearn.feature_extraction.text import CountVectorizer\n",
    "\n",
    "import re\n",
    "\"\"\"\n",
    "countv = CountVectorizer(\n",
    "                  binary=False,\n",
    "                  decode_error=\"replace\",\n",
    "                  stop_words=stop_words,\n",
    "                  preprocessor=lambda text: re.sub('[^a-zA-Z]', ' ', text.lower()),\n",
    "                  ngram_range=(1,1),\n",
    "                  tokenizer=lambda text: text.split()\n",
    "                )\n",
    "\"\"\"\n",
    "countv = CountVectorizer(\n",
    "                  binary=False,\n",
    "                  decode_error=\"replace\",\n",
    "                  stop_words=stop_words,\n",
    "                  ngram_range=(1,1),\n",
    "\n",
    "                )\n"
   ]
  },
  {
   "cell_type": "code",
   "execution_count": 14,
   "metadata": {},
   "outputs": [],
   "source": [
    "countv = countv.fit(X_train)\n",
    "X_train_countv = countv.transform(X_train)"
   ]
  },
  {
   "cell_type": "code",
   "execution_count": 15,
   "metadata": {},
   "outputs": [],
   "source": [
    "from sklearn.naive_bayes import MultinomialNB\n",
    "\n",
    "clf_countv = MultinomialNB(alpha=1.0, fit_prior=False)\n",
    "clf_countv = clf_countv.fit(X_train_countv, y_train)"
   ]
  },
  {
   "cell_type": "code",
   "execution_count": 16,
   "metadata": {},
   "outputs": [
    {
     "name": "stdout",
     "output_type": "stream",
     "text": [
      "[[533  18]\n",
      " [ 37 612]]\n"
     ]
    }
   ],
   "source": [
    "#%matplotlib inline\n",
    "#import matplotlib.pyplot as plt\n",
    "#import seaborn as sns\n",
    "from sklearn import metrics\n",
    "import numpy as np\n",
    "#import matplotlib as mpl\n",
    "\n",
    "cm = metrics.confusion_matrix(y_train, clf_countv.predict(X_train_countv))\n",
    "\n",
    "print(cm)\n"
   ]
  },
  {
   "cell_type": "code",
   "execution_count": 17,
   "metadata": {},
   "outputs": [],
   "source": [
    "import shelve\n",
    "import dill\n",
    "\n",
    "d = shelve.open('countv_clf')\n",
    "\n",
    "d['label_encoder'] = le\n",
    "d['lyrics_countv'] = countv\n",
    "d['lyrics_clf'] = clf_countv\n",
    "d.close()"
   ]
  },
  {
   "cell_type": "code",
   "execution_count": 18,
   "metadata": {},
   "outputs": [],
   "source": [
    "import dill\n",
    "\n",
    "\n",
    "try:\n",
    "    d = open('label_encoder.p', 'wb')\n",
    "    dill.dump(le, d)\n",
    "finally:\n",
    "    d.close()\n",
    "    \n",
    "    \n",
    "try:\n",
    "    d = open('countv.p', 'wb')\n",
    "    dill.dump(countv, d)\n",
    "finally:\n",
    "    d.close()   \n",
    "\n",
    "try:\n",
    "    d = open('clf_countv.p', 'wb')\n",
    "    dill.dump(clf_countv, d)\n",
    "finally:\n",
    "    d.close()  \n",
    "    "
   ]
  },
  {
   "cell_type": "code",
   "execution_count": 19,
   "metadata": {},
   "outputs": [],
   "source": [
    "import pickle\n",
    "\n",
    "\n",
    "try:\n",
    "    d = open('label_encoder.p', 'wb')\n",
    "    pickle.dump(le, d)\n",
    "finally:\n",
    "    d.close()\n",
    "    \n",
    "    \n",
    "try:\n",
    "    d = open('countv.p', 'wb')\n",
    "    pickle.dump(countv, d)\n",
    "finally:\n",
    "    d.close()   \n",
    "\n",
    "try:\n",
    "    d = open('clf_countv.p', 'wb')\n",
    "    pickle.dump(clf_countv, d)\n",
    "finally:\n",
    "    d.close() "
   ]
  },
  {
   "cell_type": "code",
   "execution_count": null,
   "metadata": {},
   "outputs": [],
   "source": []
  }
 ],
 "metadata": {
  "kernelspec": {
   "display_name": "Python 3",
   "language": "python",
   "name": "python3"
  },
  "language_info": {
   "codemirror_mode": {
    "name": "ipython",
    "version": 3
   },
   "file_extension": ".py",
   "mimetype": "text/x-python",
   "name": "python",
   "nbconvert_exporter": "python",
   "pygments_lexer": "ipython3",
   "version": "3.7.1"
  }
 },
 "nbformat": 4,
 "nbformat_minor": 1
}
